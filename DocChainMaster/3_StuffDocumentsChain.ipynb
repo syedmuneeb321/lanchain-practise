{
  "nbformat": 4,
  "nbformat_minor": 0,
  "metadata": {
    "colab": {
      "provenance": [],
      "authorship_tag": "ABX9TyNQsKjDTjnDRqa9uHKQGze/",
      "include_colab_link": true
    },
    "kernelspec": {
      "name": "python3",
      "display_name": "Python 3"
    },
    "language_info": {
      "name": "python"
    }
  },
  "cells": [
    {
      "cell_type": "markdown",
      "metadata": {
        "id": "view-in-github",
        "colab_type": "text"
      },
      "source": [
        "<a href=\"https://colab.research.google.com/github/syedmuneeb321/lanchain-practise/blob/main/DocChainMaster/3_StuffDocumentsChain.ipynb\" target=\"_parent\"><img src=\"https://colab.research.google.com/assets/colab-badge.svg\" alt=\"Open In Colab\"/></a>"
      ]
    },
    {
      "cell_type": "code",
      "execution_count": null,
      "metadata": {
        "id": "3Hnush2UB4gr"
      },
      "outputs": [],
      "source": [
        "%%capture --no-stderr\n",
        "%pip install langchain python-dotenv ipykernel langchain-community pypdf bs4 arxiv pymupdf wikipedia langchain-text-splitters langchain-openai chromadb sentence_transformers langchain_huggingface faiss-cpu langchain_chroma duckdb pandas openai langchain-groq duckduckgo_search==5.3.1b1 mysql-connector-python SQLAlchemy validators==0.28.1 youtube_transcript_api unstructured pytube numexpr huggingface_hub"
      ]
    },
    {
      "cell_type": "code",
      "source": [
        "import os\n",
        "from google.colab import userdata\n",
        "os.environ[\"GROQ_API_KEY\"] = userdata.get(\"GROQ_API_KEY\")\n",
        "os.environ['HF_TOKEN'] = userdata.get(\"HF_TOKEN\")"
      ],
      "metadata": {
        "id": "yWfpEqk_Cc9P"
      },
      "execution_count": null,
      "outputs": []
    },
    {
      "cell_type": "code",
      "source": [
        "from langchain_groq import ChatGroq\n",
        "\n",
        "llm = ChatGroq(\n",
        "    model=\"llama-3.1-70b-versatile\",\n",
        "    temperature=0.0,\n",
        "\n",
        "\n",
        ")"
      ],
      "metadata": {
        "id": "ECIHKoZiCnmV"
      },
      "execution_count": null,
      "outputs": []
    },
    {
      "cell_type": "code",
      "source": [
        "from langchain_community.document_loaders import PyPDFLoader\n",
        "docs = PyPDFLoader(\"/content/apjspeech.pdf\").load()"
      ],
      "metadata": {
        "id": "r4LGZxQeIQAR"
      },
      "execution_count": null,
      "outputs": []
    },
    {
      "cell_type": "code",
      "source": [
        "from langchain_core.prompts import PromptTemplate\n",
        "template = \"\"\"\n",
        "write a concise and short summary of the following speech,\n",
        "Speech: {text}\n",
        "\"\"\"\n",
        "\n",
        "prompt = PromptTemplate(\n",
        "    template=template,\n",
        "    input_variables=[\"text\"],\n",
        ")\n",
        "\n"
      ],
      "metadata": {
        "id": "L5oTXV7gXWqd"
      },
      "execution_count": null,
      "outputs": []
    },
    {
      "cell_type": "code",
      "source": [
        "from langchain.chains.summarize import load_summarize_chain\n",
        "chain = load_summarize_chain(llm, chain_type=\"stuff\", prompt=prompt)"
      ],
      "metadata": {
        "id": "5xgfgWfLX9MY"
      },
      "execution_count": null,
      "outputs": []
    },
    {
      "cell_type": "code",
      "source": [
        "output = chain.invoke(docs)"
      ],
      "metadata": {
        "id": "qH5lB3C3YC5d"
      },
      "execution_count": null,
      "outputs": []
    },
    {
      "cell_type": "markdown",
      "source": [
        "# According to latest docs"
      ],
      "metadata": {
        "id": "6yGSgY20iIGt"
      }
    },
    {
      "cell_type": "code",
      "source": [
        "from langchain.chains.combine_documents import create_stuff_documents_chain\n",
        "from langchain_core.output_parsers import JsonOutputParser\n",
        "from pydantic import BaseModel, Field\n",
        "from typing import List\n",
        "\n",
        "\n",
        "\n",
        "\n",
        "\n",
        "template_2 = \"\"\"\n",
        "write a concise and short summary of the following speech,\n",
        "Speech: {context}\n",
        "\"\"\"\n",
        "\n",
        "prompt_2 = PromptTemplate(\n",
        "    template=template_2,\n",
        "    input_variables=[\"context\"],\n",
        "\n",
        ")\n",
        "chain = create_stuff_documents_chain(llm, prompt=prompt_2)"
      ],
      "metadata": {
        "id": "LGBndXAhiKGq"
      },
      "execution_count": null,
      "outputs": []
    },
    {
      "cell_type": "code",
      "source": [
        "chain.invoke({\"context\":docs})"
      ],
      "metadata": {
        "id": "95sxM5oAjqrq"
      },
      "execution_count": null,
      "outputs": []
    },
    {
      "cell_type": "code",
      "source": [
        "# prompt: now my use readme heading case is load ducemnt then llm create schmea\n",
        "\n",
        "# from langchain.chains import create_extraction_chain\n",
        "\n",
        "# schema = {\n",
        "#     \"properties\": {\n",
        "#         \"summary\": {\"type\": \"string\"},\n",
        "#         \"key_takeaways\": {\"type\": \"array\", \"items\": {\"type\": \"string\"}},\n",
        "#     },\n",
        "#     \"required\": [\"summary\", \"key_takeaways\"],\n",
        "# }\n",
        "\n",
        "# chain = create_extraction_chain(schema, llm)\n",
        "# output_3 = chain.invoke(docs)\n",
        "# output_3"
      ],
      "metadata": {
        "id": "SvfKTJowj0Qy"
      },
      "execution_count": null,
      "outputs": []
    },
    {
      "cell_type": "code",
      "source": [
        "from langchain.chains.combine_documents import create_stuff_documents_chain\n",
        "from langchain_core.output_parsers import JsonOutputParser\n",
        "from pydantic import BaseModel, Field\n",
        "from typing import List\n",
        "\n",
        "class Summary(BaseModel):\n",
        "    summary: str = Field(description=\"summary of the speech\")\n",
        "\n",
        "\n",
        "\n",
        "\n",
        "\n",
        "template_2 = \"\"\"\n",
        "Summarize the following content  in below format:\n",
        "{format_instructions}\n",
        "\n",
        "\n",
        "Content: {context}\n",
        "\"\"\"\n",
        "\n",
        "prompt_2 = PromptTemplate(\n",
        "    template=template_2,\n",
        "    input_variables=[\"context\"],\n",
        "    partial_variables={\"format_instructions\": JsonOutputParser(pydantic_object=Summary).get_format_instructions()},\n",
        "\n",
        "\n",
        ")\n",
        "chain = create_stuff_documents_chain(llm, prompt=prompt_2,output_parser=JsonOutputParser(pydantic_object=Summary))"
      ],
      "metadata": {
        "id": "k-XO2-l7loNV"
      },
      "execution_count": null,
      "outputs": []
    },
    {
      "cell_type": "code",
      "source": [
        "chain.invoke({\"context\":docs})"
      ],
      "metadata": {
        "colab": {
          "base_uri": "https://localhost:8080/"
        },
        "id": "dX_1DRbSoLuo",
        "outputId": "1d130216-8709-41f1-c303-5f04697499f9"
      },
      "execution_count": null,
      "outputs": [
        {
          "output_type": "execute_result",
          "data": {
            "text/plain": [
              "{'summary': \"A P J Abdul Kalam's departing speech as President of India, highlighting his experiences and messages for the nation's development, including accelerating development, empowering villages, mobilizing rural core competence, and overcoming problems through partnership.\"}"
            ]
          },
          "metadata": {},
          "execution_count": 71
        }
      ]
    },
    {
      "cell_type": "markdown",
      "source": [
        "# Shop Genie Document Schema Map"
      ],
      "metadata": {
        "id": "itu6-03G0aKV"
      }
    },
    {
      "cell_type": "code",
      "source": [
        "from langchain.chains.combine_documents import create_stuff_documents_chain\n",
        "from langchain_core.output_parsers import JsonOutputParser\n",
        "from pydantic import BaseModel, Field\n",
        "from typing import List,Optional\n",
        "class SmartphoneReview(BaseModel):\n",
        "    \"\"\"A review of a smartphone.\"\"\"\n",
        "    title: str = Field(..., description=\"The title of the smartphone review\")\n",
        "    url: Optional[str] = Field(None, description=\"The URL of the smartphone review\")\n",
        "    content: Optional[str] = Field(None, description=\"The main content of the smartphone review\")\n",
        "    pros: Optional[List[str]] = Field(None, description=\"The pros of the smartphone\")\n",
        "    cons: Optional[List[str]] = Field(None, description=\"The cons of the smartphone\")\n",
        "    highlights: Optional[dict] = Field(None, description=\"The highlights of the smartphone\")\n",
        "    score: Optional[float] = Field(None, description=\"The score of the smartphone\")\n",
        "class ListOfSmartphoneReviews(BaseModel):\n",
        "    \"\"\"A list of smartphone reviews.\"\"\"\n",
        "    reviews: List[SmartphoneReview] = Field(..., description=\"List of individual smartphone reviews\")"
      ],
      "metadata": {
        "id": "AV0z1piM0l6U"
      },
      "execution_count": null,
      "outputs": []
    },
    {
      "cell_type": "code",
      "source": [
        " prompt_template = \"\"\"\n",
        "You are a professional assistant tasked with extracting structured information from a blogs.\n",
        "\n",
        "### Instructions:\n",
        "\n",
        "1. **Product Details**: For each product mentioned in the blog post, populate the `products` array with structured data for each item, including:\n",
        "   - `title`: The product name.\n",
        "   - `url`: Link to the blog post or relevant page.\n",
        "   - `content`: A concise summary of the product's main features or purpose.\n",
        "   - `pros`: A list of positive aspects or advantages of the product.if available other wise extract blog content.\n",
        "   - `cons`: A list of negative aspects or disadvantages.if available other wise extract blog content.\n",
        "   - `highlights`: A dictionary containing notable features or specifications.if available other wise extract blog content.\n",
        "   - `score`: A numerical rating score if available; otherwise, use `0.0`.\n",
        "\n",
        "### Blogs Contents: {context}\n",
        "\n",
        "After extracting all information, just return the response in the JSON structure given below. Do not add any extracted information. The JSON should be in a valid structure with no extra characters inside, like Python’s \\n.\n",
        "\n",
        "\n",
        "\"\"\""
      ],
      "metadata": {
        "id": "WUwPNJyR1Ugw"
      },
      "execution_count": null,
      "outputs": []
    },
    {
      "cell_type": "code",
      "source": [
        "parser = JsonOutputParser(pydantic_object=ListOfSmartphoneReviews)\n",
        "\n",
        "\n",
        "\n",
        "# Format the prompt with the full blogs content\n",
        "blog_prompt = PromptTemplate(\n",
        "    template = prompt_template,\n",
        "    input_variables = [\"context\"],\n",
        "    partial_variables={\"format_instructions\": parser.get_format_instructions()}\n",
        ")"
      ],
      "metadata": {
        "id": "wPK5rHEn1qZk"
      },
      "execution_count": null,
      "outputs": []
    },
    {
      "cell_type": "code",
      "source": [
        "blog_chain = create_stuff_documents_chain(llm, prompt=blog_prompt,output_parser=parser)"
      ],
      "metadata": {
        "id": "LF14uOa019vm"
      },
      "execution_count": null,
      "outputs": []
    },
    {
      "cell_type": "code",
      "source": [
        "from langchain_community.document_loaders import WebBaseLoader\n",
        "page_url=\"https://www.nextpit.com/best-smartphones-under-1000\"\n",
        "blog_docs = WebBaseLoader(web_paths=[page_url], bs_get_text_kwargs={\"separator\": \" \", \"strip\": True}).load()"
      ],
      "metadata": {
        "colab": {
          "base_uri": "https://localhost:8080/"
        },
        "id": "EtK_n1Le2Lkl",
        "outputId": "80a1ee1c-32ea-4b6f-cc8d-2f83891647c9"
      },
      "execution_count": null,
      "outputs": [
        {
          "output_type": "stream",
          "name": "stderr",
          "text": [
            "WARNING:langchain_community.utils.user_agent:USER_AGENT environment variable not set, consider setting it to identify your requests.\n"
          ]
        }
      ]
    },
    {
      "cell_type": "code",
      "source": [
        "blog_chain.invoke({\"context\":blog_docs})"
      ],
      "metadata": {
        "colab": {
          "base_uri": "https://localhost:8080/"
        },
        "id": "k2p9RrJx2szl",
        "outputId": "eff14cd0-431a-4e9a-dbe8-cd29c04fed59"
      },
      "execution_count": null,
      "outputs": [
        {
          "output_type": "execute_result",
          "data": {
            "text/plain": [
              "{'products': [{'title': 'Samsung Galaxy S24',\n",
              "   'url': 'https://www.nextpit.com/samsung-galaxy-s24-review',\n",
              "   'content': 'The Samsung Galaxy S24 is a high-end smartphone with a 6.2-inch display, powerful performance, and up to seven years of updates.',\n",
              "   'pros': ['Powerful AI functions',\n",
              "    'Outstanding display',\n",
              "    'Compact and good feel',\n",
              "    'Commendable update policy'],\n",
              "   'cons': ['No camera upgrade',\n",
              "    '128 GB UFS 3.1 memory',\n",
              "    'Larger battery, shorter runtime',\n",
              "    'Charging not up to date'],\n",
              "   'highlights': {'processor': 'Snapdragon 8 Gen 3 (US) / Exynos 2400 (global)',\n",
              "    'RAM': '8 GB LPDDR5X',\n",
              "    'storage': '128 GB UFS 3.1',\n",
              "    'camera': 'Wide: 50 MP, f/1.8, OIS / Ultra-wide: 12 MP, f/2.2 / 3x telephoto: 10 MP, f/2.4, OIS / Selfie: 12 MP, f/2.2'},\n",
              "   'score': 0.0},\n",
              "  {'title': 'Apple iPhone 16',\n",
              "   'url': 'https://www.nextpit.com/apple-iphone-16-review',\n",
              "   'content': 'The Apple iPhone 16 is a high-end smartphone with a streamlined selection of phones, expanded RAM, and a new A18 processor.',\n",
              "   'pros': ['New shortcuts with the Action Button and Camera Control',\n",
              "    'Major hardware upgrade thanks to A18 SoC and 8 GB RAM',\n",
              "    'Image quality can be customized in many ways',\n",
              "    'Outstanding battery life'],\n",
              "   'cons': ['Lags behind the competition without AI integration',\n",
              "    'Only 60 Hz refresh rate for the display',\n",
              "    'Camera Control is only really practical in landscape mode'],\n",
              "   'highlights': {'processor': 'Apple A18',\n",
              "    'RAM': '8 GB',\n",
              "    'storage': '128 / 256 / 512 GB',\n",
              "    'camera': 'Main: 48 MP, f/1.6, OIS / Ultra-wide: 12 MP, f/2.2 / Selfie: 12 MP, f/1.9'},\n",
              "   'score': 0.0},\n",
              "  {'title': 'Google Pixel 8 Pro',\n",
              "   'url': 'https://www.nextpit.com/google-pixel-8-pro-review',\n",
              "   'content': 'The Google Pixel 8 Pro is a high-end smartphone with a 6.7-inch display, powerful performance, and an exceptional camera.',\n",
              "   'pros': ['A smartphone camera at its best',\n",
              "    'Merciless update promise',\n",
              "    'Better haptics than the predecessor',\n",
              "    'Sufficient everyday performance',\n",
              "    'Great AI functions',\n",
              "    '1-120 Hz display'],\n",
              "   'cons': ['G3 is not a flagship processor',\n",
              "    'Price hike',\n",
              "    'No charger included',\n",
              "    'Some promised features are still missing'],\n",
              "   'highlights': {'processor': 'Google Tensor G3',\n",
              "    'RAM': '12 GB LPDDR5x',\n",
              "    'storage': '128 / 256 / 512 / 1024 GB UFS 3.1',\n",
              "    'camera': 'Main: 50 MP, f/1.68, OIS / Ultra-wide: 48 MP, f/1.95 / 5x telephoto: 48 MP, f/2.8 / Selfie: 10.5 MP, f/2.2'},\n",
              "   'score': 0.0},\n",
              "  {'title': 'Samsung Galaxy Z Flip 5',\n",
              "   'url': 'https://www.nextpit.com/samsung-galaxy-z-flip-5-review',\n",
              "   'content': 'The Samsung Galaxy Z Flip 5 is a compact smartphone with a 6.7-inch display, powerful performance, and a unique design.',\n",
              "   'pros': ['Truly useful cover display',\n",
              "    'Improved hinge mechanics',\n",
              "    'Balanced display image quality',\n",
              "    'Fluid software experience',\n",
              "    'Above-average camera quality'],\n",
              "   'cons': ['Slightly larger crease in the display',\n",
              "    'Only average battery life',\n",
              "    'Charging time exceeds one hour',\n",
              "    'No charger included in the box'],\n",
              "   'highlights': {'processor': 'Snapdragon 8 Gen 2',\n",
              "    'RAM': '8 GB',\n",
              "    'storage': '256 / 512 GB UFS 4.0',\n",
              "    'camera': 'Main: 12 MP, f/1.8, OIS / Ultra-wide: 12 MP, f/2.2 / Selfie: 10 MP, f/2.2'},\n",
              "   'score': 0.0}]}"
            ]
          },
          "metadata": {},
          "execution_count": 84
        }
      ]
    },
    {
      "cell_type": "code",
      "source": [],
      "metadata": {
        "id": "zvMhINYq2yET"
      },
      "execution_count": null,
      "outputs": []
    }
  ]
}