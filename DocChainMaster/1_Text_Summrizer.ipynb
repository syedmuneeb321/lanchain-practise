{
  "nbformat": 4,
  "nbformat_minor": 0,
  "metadata": {
    "colab": {
      "provenance": [],
      "authorship_tag": "ABX9TyPZzvK5qbOlwAkKnRFGMpmg",
      "include_colab_link": true
    },
    "kernelspec": {
      "name": "python3",
      "display_name": "Python 3"
    },
    "language_info": {
      "name": "python"
    }
  },
  "cells": [
    {
      "cell_type": "markdown",
      "metadata": {
        "id": "view-in-github",
        "colab_type": "text"
      },
      "source": [
        "<a href=\"https://colab.research.google.com/github/syedmuneeb321/lanchain-practise/blob/main/DocChainMaster/1_Text_Summrizer.ipynb\" target=\"_parent\"><img src=\"https://colab.research.google.com/assets/colab-badge.svg\" alt=\"Open In Colab\"/></a>"
      ]
    },
    {
      "cell_type": "code",
      "execution_count": null,
      "metadata": {
        "id": "3Hnush2UB4gr"
      },
      "outputs": [],
      "source": [
        "%%capture --no-stderr\n",
        "%pip install langchain python-dotenv ipykernel langchain-community pypdf bs4 arxiv pymupdf wikipedia langchain-text-splitters langchain-openai chromadb sentence_transformers langchain_huggingface faiss-cpu langchain_chroma duckdb pandas openai langchain-groq duckduckgo_search==5.3.1b1 mysql-connector-python SQLAlchemy validators==0.28.1 youtube_transcript_api unstructured pytube numexpr huggingface_hub"
      ]
    },
    {
      "cell_type": "code",
      "source": [
        "import os\n",
        "from google.colab import userdata\n",
        "os.environ[\"GROQ_API_KEY\"] = userdata.get(\"GROQ_API_KEY\")\n",
        "os.environ['HF_TOKEN'] = userdata.get(\"HF_TOKEN\")"
      ],
      "metadata": {
        "id": "yWfpEqk_Cc9P"
      },
      "execution_count": null,
      "outputs": []
    },
    {
      "cell_type": "code",
      "source": [
        "from langchain_groq import ChatGroq\n",
        "\n",
        "llm = ChatGroq(\n",
        "    model=\"llama-3.1-70b-versatile\",\n",
        "    temperature=0.0,\n",
        "\n",
        "\n",
        ")"
      ],
      "metadata": {
        "id": "ECIHKoZiCnmV"
      },
      "execution_count": null,
      "outputs": []
    },
    {
      "cell_type": "code",
      "source": [
        "from langchain.schema import (\n",
        "    AIMessage,\n",
        "    HumanMessage,\n",
        "    SystemMessage\n",
        ")"
      ],
      "metadata": {
        "id": "EpCNMSmQC21e"
      },
      "execution_count": null,
      "outputs": []
    },
    {
      "cell_type": "code",
      "source": [
        "text = \"\"\"\n",
        " In this Kubernetes Tutorial you’ll learn all the basics to advanced concepts like Kubernetes service , Kubernetes cluster construction , Kubernetes deployment , Kubernetes Architecture , etc. This free tutorial on Kubernetes will provide all the essential information needed to understand and work with Kubernetes, including the use of APIs, installation, and Kubernetes cluster construction. Whether you are a beginner or an expert, this tutorial will cover all the necessary details to help you learn and understand Kubernetes.\n",
        "\n",
        "Kubernetes is a tool that helps us to run and manage applications in containers. It was developed by Google Lab in 2014, and it is also known as k8s. It is an open-source container orchestration platform that automates the deployment, management, and scaling of container-based applications in different kinds of environments like physical, virtual, and cloud-native computing foundations.\n",
        "\n",
        "Kubernetes\n",
        "\n",
        "Containers are isolated from each other so that multiple containers can run on the same machine without interrupting anyone else. It allows us to deploy and manage container-based applications across a Kubernetes cluster of machines.\n",
        "Prerequisites for this Kubernetes Tutorial\n",
        "\n",
        "Before diving into Kubernetes, it’s essential to have a solid understanding of certain concepts and technologies. Here are some prerequisites:\n",
        "\n",
        "    Have good understanding of Container concept & Container Management Tool like Docker or Podman.\n",
        "    Understanding of distributed system.\n",
        "    Understanding of REST API\n",
        "    Basic understanding of YAML\n",
        "\n",
        "Basics of Kubernetes\n",
        "\n",
        "Kubernetes Basics will teach you how to manage these “containers” effectively. Kubernetes is like a ship captain for these containers, organizing and placing them on multiple computers (like a ship carrying many containers). This introduction will explain key Kubernetes ideas like Pods, Services, and Deployments. You’ll learn how Kubernetes keeps your containerized applications running smoothly and efficiently\n",
        "\n",
        "    Introduction to Kubernetes\n",
        "    Kubernetes – Installation Methods\n",
        "    Installation of Kubernetes on Ubuntu\n",
        "    Kubernetes – Architecture\n",
        "    Kubernetes – Monolithic Architecture of Kubernetes\n",
        "    Kubernetes vs Docker\n",
        "    Kubernetes – Concept of Containers\n",
        "    Kubernetes – Introduction to Container Orchestration\n",
        "    Kubernetes – Images\n",
        "    Kubernetes – Jobs\n",
        "    Kubernetes – Labels & Selectors\n",
        "    Kubernetes – Namespace\n",
        "    Kubernetes – Node\n",
        "    Kubernetes – Node Port Service\n",
        "    Kubernetes – Cluster IP vs Node-Port\n",
        "    Kubernetes – Service\n",
        "    Kubernetes – Service DNS\n",
        "    Kubernetes – Pod\n",
        "    Kubernetes – Run a Command in Pod’s Containers\n",
        "    Kubernetes – Create Multiple Container in a Pod\n",
        "    Kubernetes – Replication Controller\n",
        "    Kubernetes – Difference Between Replicaset and Replication Controller\n",
        "    Kubernetes – Deployments\n",
        "    Kubernetes – Volumes\n",
        "    Kubernetes – Secrets\n",
        "    Kubernetes – Working with Secrets\n",
        "    How to set up a Kubernetes cluster on a local machine using minikube?\n",
        "    Kubernetes – Physical Servers vs Virtual Machines vs Containers\n",
        "\n",
        "To dive deeper into how Kubernetes fits within the larger DevOps ecosystem, the DevOps Engineering – Planning to Production course covers Kubernetes from setup to production-level deployment.\n",
        "Advanced Kubernetes\n",
        "\n",
        "In this Advanced Kubernetes section we will understand how to manage complex containerized applications. This section assumes you’re familiar with Kubernetes basics and explores powerful features for scaling, security, and automation. We’ll delve into concepts like deployments with rollbacks and health checks, advanced networking configurations for service communication, and tools for managing storage and persistent data for your containerized applications.\n",
        "\n",
        "    Kubernetes – API\n",
        "    Kubernetes – Taint and Toleration\n",
        "    Kubernetes – Kubectl\n",
        "    Kubernetes – Kubectl Commands\n",
        "    Kubernetes – Kubectl Delete\n",
        "    Kubernetes – Load Balancing Service\n",
        "    Kubernetes – Kubectl Create and Kubectl Apply\n",
        "    Kubernetes – ConfigMap\n",
        "    Kubernetes – Create Config Map From Files\n",
        "    Kubernetes – Create ConfigMap from YAML\n",
        "    Kubernetes – ConfigMap from Directories\n",
        "    Kubernetes – Injecting ConfigMap as Files\n",
        "    Kubernetes – Injecting ConfigMap in Pods\n",
        "    Kubernetes Resource Model (KRM) and How to Make Use of YAML?\n",
        "    Installing Private Git Server on K8s Cluster with Gitea and AKS\n",
        "    Enable Remote Debugging For Java Application Deployed in Kubernetes Environment\n",
        "    How to Enable JMX For Java Applications Running in the Kubernetes Cluster?\n",
        "\n",
        "Why Do We Need Kubernetes?\n",
        "\n",
        "There are several reasons to learn Kubernetes like easy scaling of applications, self-healing, portability, and automation. It is very helpful for running microservices and distributed systems.\n",
        "\n",
        "For example : You have a couple of applications to deploy so, you can package it into a container and run it on a server containing a Docker engine or any other container engine. You package the application into a container using a Docker file and host it on a port for the external world to access it.\n",
        "\n",
        "But there is a drawback is that it is only running on a single server so, if at that point any failure occurs it becomes an application failure, to handle the single point of failure google introduced Kubernetes to scale applications.\n",
        "Kubernetes Architecture\n",
        "\n",
        "Below you will find the image that describe the architecture of Kubernetes.\n",
        "kubernetes\n",
        "Features of Kubernetes\n",
        "\n",
        "    Consistent Development, management, and deployment\n",
        "    Container-based infrastructure\n",
        "    Utilization of resources in higher density\n",
        "    Each component is like a separate unit\n",
        "    Application-centric infrastructure\n",
        "    Auto scalability\n",
        "    Consistency is maintained across testing and development\n",
        "\n",
        "Advantages of Kubernetes\n",
        "\n",
        "    Container Orchestration: Kubernetes automates the deployment, scaling, and management of containerized applications, ensuring efficient resource utilization and seamless deployment updates.\n",
        "    Scalability: Kubernetes enables horizontal scaling of applications by adding or removing container replicas based on demand, ensuring optimal performance during peak loads.\n",
        "    High Availability: With automated health checks and self-healing capabilities, Kubernetes ensures that applications remain available and responsive, reducing downtime and enhancing reliability.\n",
        "    Fault Tolerance: Kubernetes manages application failures by automatically restarting containers or shifting traffic to healthy instances, improving overall application resilience.\n",
        "    Flexibility: Supports multi-cloud and hybrid-cloud environments, allowing deployment across various infrastructure providers and on-premises data centers without vendor lock-in.\n",
        "    Resource Efficiency: Efficiently manages computing resources like CPU and memory, optimizing utilization and reducing costs by scaling resources based on application demands.\n",
        "    Automated Operations: Simplifies complex operational tasks such as load balancing, storage orchestration, and networking configuration through declarative APIs and automation.\n",
        "\n",
        "Conclusion\n",
        "\n",
        "This tutorial provided a comprehensive overview of Kubernetes, including its history, key features, and how it can be used to manage and deliver containerized applications. We covered the use of Kubernetes APIs, installation, and cluster construction. Whether you are new to Kubernetes or an experienced user, this tutorial will provide you with the information you need to understand and work with this powerful open-source platform. Kubernetes is widely used in the industry and continues to be a popular choice for managing containerized applications in a production environment. Keep learning and experimenting with Kubernetes to discover its full potential.\n",
        "\"\"\""
      ],
      "metadata": {
        "id": "n82FqRWmFVQd"
      },
      "execution_count": null,
      "outputs": []
    },
    {
      "cell_type": "code",
      "source": [
        "chat_messages = [\n",
        "    SystemMessage(content=\"you are expert with experince in summarizing tech content. summarising the content with very simple english\"),\n",
        "    HumanMessage(content=f\"please provide a short summary of all the content. \\n Text: {text}\")\n",
        "\n",
        "]"
      ],
      "metadata": {
        "id": "P31ht2QtF533"
      },
      "execution_count": null,
      "outputs": []
    },
    {
      "cell_type": "code",
      "source": [
        "llm.get_num_tokens(text)"
      ],
      "metadata": {
        "colab": {
          "base_uri": "https://localhost:8080/"
        },
        "id": "_KpmlJuIHHd4",
        "outputId": "13a75ada-0e5c-49f0-e03a-a3598f59aecc"
      },
      "execution_count": null,
      "outputs": [
        {
          "output_type": "execute_result",
          "data": {
            "text/plain": [
              "1846"
            ]
          },
          "metadata": {},
          "execution_count": 14
        }
      ]
    },
    {
      "cell_type": "code",
      "source": [
        "output = llm.invoke(chat_messages)"
      ],
      "metadata": {
        "id": "SbbXyuOqHNmQ"
      },
      "execution_count": null,
      "outputs": []
    },
    {
      "cell_type": "code",
      "source": [
        "output"
      ],
      "metadata": {
        "colab": {
          "base_uri": "https://localhost:8080/"
        },
        "id": "Qg2ogqUxH7Wx",
        "outputId": "e230e73d-28fd-4ee8-db9c-2b775b2555ed"
      },
      "execution_count": null,
      "outputs": [
        {
          "output_type": "execute_result",
          "data": {
            "text/plain": [
              "AIMessage(content=\"Here's a simple summary of the content:\\n\\n**What is Kubernetes?**\\nKubernetes is a tool that helps run and manage applications in containers. It was created by Google in 2014 and is also known as k8s. It's an open-source platform that automates the deployment, management, and scaling of container-based applications.\\n\\n**What does Kubernetes do?**\\nKubernetes helps manage containers, which are like isolated boxes that can run on the same machine without interrupting each other. It allows you to deploy and manage container-based applications across a group of machines.\\n\\n**Why do we need Kubernetes?**\\nKubernetes is helpful for running microservices and distributed systems. It provides easy scaling of applications, self-healing, portability, and automation.\\n\\n**Key Features of Kubernetes**\\n\\n* Consistent development, management, and deployment\\n* Container-based infrastructure\\n* Auto scalability\\n* High availability\\n* Fault tolerance\\n* Flexibility\\n* Resource efficiency\\n* Automated operations\\n\\n**Advantages of Kubernetes**\\n\\n* Automates deployment, scaling, and management of containerized applications\\n* Enables horizontal scaling of applications\\n* Ensures high availability and self-healing\\n* Manages application failures\\n* Supports multi-cloud and hybrid-cloud environments\\n* Efficiently manages computing resources\\n\\n**What will you learn from this tutorial?**\\nThis tutorial will cover the basics of Kubernetes, including its architecture, installation, and cluster construction. You'll also learn about advanced topics like deployments, networking, and storage. Whether you're a beginner or an expert, this tutorial will provide you with the information you need to understand and work with Kubernetes.\", additional_kwargs={}, response_metadata={'token_usage': {'completion_tokens': 327, 'prompt_tokens': 1437, 'total_tokens': 1764, 'completion_time': 1.308, 'prompt_time': 0.240730702, 'queue_time': 0.0037518059999999964, 'total_time': 1.5487307019999998}, 'model_name': 'llama-3.1-70b-versatile', 'system_fingerprint': 'fp_5c5d1b5cfb', 'finish_reason': 'stop', 'logprobs': None}, id='run-4cbc15d0-7a4e-4f86-a882-f28dfc4d8856-0', usage_metadata={'input_tokens': 1437, 'output_tokens': 327, 'total_tokens': 1764})"
            ]
          },
          "metadata": {},
          "execution_count": 19
        }
      ]
    },
    {
      "cell_type": "code",
      "source": [
        "print(output.content)"
      ],
      "metadata": {
        "colab": {
          "base_uri": "https://localhost:8080/"
        },
        "id": "hyq2gRFAIKCW",
        "outputId": "83f6f031-f882-4c71-da32-75d9f5cb95b6"
      },
      "execution_count": null,
      "outputs": [
        {
          "output_type": "stream",
          "name": "stdout",
          "text": [
            "Here's a simple summary of the content:\n",
            "\n",
            "**What is Kubernetes?**\n",
            "Kubernetes is a tool that helps run and manage applications in containers. It was created by Google in 2014 and is also known as k8s. It's an open-source platform that automates the deployment, management, and scaling of container-based applications.\n",
            "\n",
            "**What does Kubernetes do?**\n",
            "Kubernetes helps manage containers, which are like isolated boxes that can run on the same machine without interrupting each other. It allows you to deploy and manage container-based applications across a group of machines.\n",
            "\n",
            "**Why do we need Kubernetes?**\n",
            "Kubernetes is helpful for running microservices and distributed systems. It provides easy scaling of applications, self-healing, portability, and automation.\n",
            "\n",
            "**Key Features of Kubernetes**\n",
            "\n",
            "* Consistent development, management, and deployment\n",
            "* Container-based infrastructure\n",
            "* Auto scalability\n",
            "* High availability\n",
            "* Fault tolerance\n",
            "* Flexibility\n",
            "* Resource efficiency\n",
            "* Automated operations\n",
            "\n",
            "**Advantages of Kubernetes**\n",
            "\n",
            "* Automates deployment, scaling, and management of containerized applications\n",
            "* Enables horizontal scaling of applications\n",
            "* Ensures high availability and self-healing\n",
            "* Manages application failures\n",
            "* Supports multi-cloud and hybrid-cloud environments\n",
            "* Efficiently manages computing resources\n",
            "\n",
            "**What will you learn from this tutorial?**\n",
            "This tutorial will cover the basics of Kubernetes, including its architecture, installation, and cluster construction. You'll also learn about advanced topics like deployments, networking, and storage. Whether you're a beginner or an expert, this tutorial will provide you with the information you need to understand and work with Kubernetes.\n"
          ]
        }
      ]
    },
    {
      "cell_type": "code",
      "source": [],
      "metadata": {
        "id": "r4LGZxQeIQAR"
      },
      "execution_count": null,
      "outputs": []
    }
  ]
}