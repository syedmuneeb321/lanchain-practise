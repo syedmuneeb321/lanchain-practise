{
  "nbformat": 4,
  "nbformat_minor": 0,
  "metadata": {
    "colab": {
      "provenance": [],
      "authorship_tag": "ABX9TyP3fDaBirx7It/phMWuu+Sr",
      "include_colab_link": true
    },
    "kernelspec": {
      "name": "python3",
      "display_name": "Python 3"
    },
    "language_info": {
      "name": "python"
    }
  },
  "cells": [
    {
      "cell_type": "markdown",
      "metadata": {
        "id": "view-in-github",
        "colab_type": "text"
      },
      "source": [
        "<a href=\"https://colab.research.google.com/github/syedmuneeb321/lanchain-practise/blob/main/langchain-basic-component/lng_basic_comnt.ipynb\" target=\"_parent\"><img src=\"https://colab.research.google.com/assets/colab-badge.svg\" alt=\"Open In Colab\"/></a>"
      ]
    },
    {
      "cell_type": "code",
      "execution_count": null,
      "metadata": {
        "id": "b4pBL4iMVd76"
      },
      "outputs": [],
      "source": [
        "%pip install langchain python-dotenv ipykernel langchain-community pypdf bs4 arxiv pymupdf wikipedia langchain-text-splitters langchain-openai chromadb sentence_transformers langchain_huggingface faiss-cpu langchain_chroma duckdb pandas openai langchain-groq duckduckgo_search==5.3.1b1 mysql-connector-python SQLAlchemy validators==0.28.1 youtube_transcript_api unstructured pytube numexpr huggingface_hub"
      ]
    },
    {
      "cell_type": "code",
      "source": [
        "import os\n",
        "from google.colab import userdata\n",
        "\n",
        "\n",
        "os.environ['OPENAI_API_KEY']=userdata.get('OPENAI_API_KEY')\n",
        "## Langsmith Tracking\n",
        "os.environ[\"LANGCHAIN_API_KEY\"]=userdata.get('LANGCHAIN_API_KEY')\n",
        "os.environ[\"LANGCHAIN_TRACING_V2\"]=\"true\"\n",
        "os.environ[\"LANGCHAIN_PROJECT\"]=userdata.get(\"LANGCHAIN_PROJECT\")"
      ],
      "metadata": {
        "id": "VOPFuV7GaAbT"
      },
      "execution_count": 3,
      "outputs": []
    },
    {
      "cell_type": "code",
      "source": [
        "from langchain_openai import ChatOpenAI\n",
        "from langchain_core.prompts import ChatPromptTemplate\n",
        "from langchain_core.output_parsers import StrOutputParser\n",
        "\n"
      ],
      "metadata": {
        "id": "aZ1QjcO-ctmN"
      },
      "execution_count": 4,
      "outputs": []
    },
    {
      "cell_type": "code",
      "source": [
        "llm = ChatOpenAI(model=\"gpt-4o-mini\")\n",
        "prompt = ChatPromptTemplate.from_messages([\n",
        "    (\"system\",\"Your task is to understand the user's query as a software developer and provide a clear, simple answer. Explain solutions in easy, straightforward English to help the user understand.\"),\n",
        "    (\"human\",\"{query}\")\n",
        "])\n"
      ],
      "metadata": {
        "id": "T9OeR8Klc8OB"
      },
      "execution_count": 7,
      "outputs": []
    },
    {
      "cell_type": "code",
      "source": [
        "str_output_parser = StrOutputParser()\n",
        "chain = prompt | llm | str_output_parser\n"
      ],
      "metadata": {
        "id": "739OnzoIepJr"
      },
      "execution_count": 8,
      "outputs": []
    },
    {
      "cell_type": "code",
      "source": [
        "chain.invoke({\"query\":\"create a two number python program\"})"
      ],
      "metadata": {
        "colab": {
          "base_uri": "https://localhost:8080/",
          "height": 184
        },
        "id": "z3nnrgU6e2-t",
        "outputId": "5b7e32ba-d7db-4ddf-886a-0279a48415ca"
      },
      "execution_count": 9,
      "outputs": [
        {
          "output_type": "execute_result",
          "data": {
            "text/plain": [
              "'To create a simple Python program that works with two numbers, you can follow these steps. Here’s a basic example that asks the user for two numbers and then performs some operations on them, like addition and multiplication.\\n\\n```python\\n# This program takes two numbers and performs addition and multiplication.\\n\\n# Get input from the user\\nnum1 = float(input(\"Enter the first number: \"))  # First number\\nnum2 = float(input(\"Enter the second number: \")) # Second number\\n\\n# Perform addition\\nsum_result = num1 + num2\\nprint(\"The sum of\", num1, \"and\", num2, \"is:\", sum_result)\\n\\n# Perform multiplication\\nproduct_result = num1 * num2\\nprint(\"The product of\", num1, \"and\", num2, \"is:\", product_result)\\n```\\n\\n### Explanation:\\n1. **Input**: The program uses `input()` to get numbers from the user. We convert the input to `float` to allow decimal numbers.\\n2. **Addition**: It adds the two numbers and stores the result in `sum_result`.\\n3. **Multiplication**: It multiplies the two numbers and stores the result in `product_result`.\\n4. **Output**: Finally, it prints the results.\\n\\n### How to Run:\\n1. Copy the code into a Python environment (like IDLE, Jupyter Notebook, or any online Python compiler).\\n2. Run the program, and it will prompt you to enter two numbers.\\n3. After entering the numbers, it will display the sum and product.\\n\\nFeel free to modify the program to perform other operations like subtraction or division!'"
            ],
            "application/vnd.google.colaboratory.intrinsic+json": {
              "type": "string"
            }
          },
          "metadata": {},
          "execution_count": 9
        }
      ]
    }
  ]
}